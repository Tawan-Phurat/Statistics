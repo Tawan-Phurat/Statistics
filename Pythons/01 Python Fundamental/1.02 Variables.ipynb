{
 "cells": [
  {
   "attachments": {},
   "cell_type": "markdown",
   "metadata": {},
   "source": [
    "### กฎการตั้งชื่อ (Rules in Naming a Variable) ตั้งชื่อผิดมีสิทธิ์ Error\n",
    "\n",
    "* กฎข้อที่ 1: ชื่อตัวแปร ขึ้นต้นได้เฉพาะตัวอักษร (letter) หรือเครื่องหมายขีดเส้นใต้(underscore) เท่านั้น \n",
    "* กฎข้อที่ 2: ชื่อตัวแปรขึ้นต้นด้วยตัวเลขไม่ได้ \n",
    "* กฎข้อที่ 3: ชื่อตัวแปรประกอบด้วยตัวอักษรและตัวเลข (alphanumeric characters) กับเครื่องหมายขีดเส้นใต้เท่านั้น  \n",
    "* กฎข้อที่ 4: ชื่อตัวแปรตัวอักษรใหญ่เล็กมีความแตกต่างกัน ชื่อที่ต่างกันถือเป็นคนละตัวกัน"
   ]
  },
  {
   "cell_type": "code",
   "execution_count": 6,
   "metadata": {},
   "outputs": [
    {
     "name": "stdout",
     "output_type": "stream",
     "text": [
      "_a 1\n",
      "a  2\n",
      "A  4\n",
      "String 5\n",
      "string 67\n",
      "x  8\n"
     ]
    }
   ],
   "source": [
    "_a = 1\n",
    "a = 2\n",
    "A = 3 \n",
    "A = 4\n",
    "String = 5\n",
    "string = 67\n",
    "x = 8\n",
    "\n",
    "print(\"_a\",_a)\n",
    "print(\"a \",a)\n",
    "print(\"A \",A)\n",
    "print(\"String\",String)\n",
    "print(\"string\",string)\n",
    "print(\"x \",x)"
   ]
  },
  {
   "cell_type": "code",
   "execution_count": 7,
   "metadata": {},
   "outputs": [
    {
     "name": "stdout",
     "output_type": "stream",
     "text": [
      "ผลรวมอของ a และ b คือ: 30\n"
     ]
    }
   ],
   "source": [
    "a = 10\n",
    "b = 20\n",
    "c = a+b\n",
    "print(\"ผลรวมอของ a และ b คือ:\", c)\n"
   ]
  },
  {
   "attachments": {},
   "cell_type": "markdown",
   "metadata": {},
   "source": [
    "### การสร้างตัวแปร Creating Variables"
   ]
  },
  {
   "attachments": {},
   "cell_type": "markdown",
   "metadata": {},
   "source": [
    "* ตัวแปรใช้สำหรับเก็บค่าของข้อมูลต่างๆ เช่น อุณหภูมิ ความชื้น ซึ่งมีค่าเป็นตัวเลข จำนวนเต็ม หรือทศนิยม หรือบางทีตัวแปรก็อาจเก็บ ข้อความที่เป็นตัวอักษรเช่น ชื่อนาม-สกุล เป็นต้น\n",
    "\n",
    "* ภาษา Python ไม่มีการประกาศตัวแปร สามารถกำหนดค่าให้กับตัวแปรตอนไหนก็ได้ \n",
    "\n",
    "* ตัวแปรจะถูกสร้างขึ้นโดยอัตโนมัติเมื่อมีการกำหนดค่าให้กับตัวแปร"
   ]
  },
  {
   "cell_type": "code",
   "execution_count": 12,
   "metadata": {},
   "outputs": [],
   "source": [
    "humidity = 10\n",
    "temperature = 25.6\n",
    "idolname= \"Bae In hyuk\""
   ]
  },
  {
   "attachments": {},
   "cell_type": "markdown",
   "metadata": {},
   "source": [
    "### การแสดงผลค่าที่อยู่ในตัวแปรด้วยคำสั่ง print()"
   ]
  },
  {
   "cell_type": "code",
   "execution_count": 13,
   "metadata": {},
   "outputs": [
    {
     "name": "stdout",
     "output_type": "stream",
     "text": [
      "10\n",
      "25.6\n",
      "Bae In hyuk\n"
     ]
    }
   ],
   "source": [
    "print(humidity)\n",
    "print(temperature)\n",
    "print(idolname)"
   ]
  },
  {
   "attachments": {},
   "cell_type": "markdown",
   "metadata": {},
   "source": [
    "### การตรวจสอบชนิดของตัวแปรด้วยฟังก์ชัน type()"
   ]
  },
  {
   "cell_type": "code",
   "execution_count": 14,
   "metadata": {},
   "outputs": [
    {
     "name": "stdout",
     "output_type": "stream",
     "text": [
      "<class 'int'>\n",
      "<class 'float'>\n",
      "<class 'str'>\n"
     ]
    }
   ],
   "source": [
    "a = type(humidity)\n",
    "print(a)\n",
    "\n",
    "print(type(temperature))\n",
    "print(type(idolname))"
   ]
  },
  {
   "attachments": {},
   "cell_type": "markdown",
   "metadata": {},
   "source": [
    "### การกำหนดค่าให้กับตัวแปรหลายๆตัวพร้อมๆกันในคำสั่งเดียว "
   ]
  },
  {
   "cell_type": "code",
   "execution_count": 15,
   "metadata": {},
   "outputs": [
    {
     "name": "stdout",
     "output_type": "stream",
     "text": [
      "<class 'int'>\n",
      "<class 'float'>\n",
      "<class 'str'>\n"
     ]
    }
   ],
   "source": [
    "humidity, temperature, idolname = 15, 22.5, 'Chae Jong-Hyeop'\n",
    "\n",
    "print(type(humidity))\n",
    "print(type(temperature))\n",
    "print(type(idolname))"
   ]
  },
  {
   "attachments": {},
   "cell_type": "markdown",
   "metadata": {},
   "source": [
    "### เครื่องหมายคอมม่า \",\" สามารถใช้แสดงค่าของตัวแปร หลายๆตัว พร้อมๆกัน "
   ]
  },
  {
   "cell_type": "code",
   "execution_count": 18,
   "metadata": {},
   "outputs": [
    {
     "name": "stdout",
     "output_type": "stream",
     "text": [
      "Humidity: 15  Temperature: 22.5  idolname: Chae Jong-Hyeop\n"
     ]
    }
   ],
   "source": [
    "# สามารถใช้เครื่องหมายคอมม่า \",\" คั่นแต่ละชุดได้\n",
    "\n",
    "humidity, temperature, idolname = 15, 22.5, 'Chae Jong-Hyeop'\n",
    "\n",
    "print(\"Humidity:\",humidity,\" Temperature:\",temperature,\" idolname:\",idolname)\n"
   ]
  },
  {
   "cell_type": "code",
   "execution_count": 21,
   "metadata": {},
   "outputs": [
    {
     "name": "stdout",
     "output_type": "stream",
     "text": [
      "My Favorite Star is : Kim Jae Won\n",
      "My Favorite Star is :  Kim Jae Won\n"
     ]
    }
   ],
   "source": [
    "# กรณีที่เป็นการแสดงข้อความด้วยกัน สามารถใช้เครื่องหมายบวก \"+\" แทนเครื่องหมายคอมม่าไ้ด้\n",
    "\n",
    "x = \"Kim Jae Won\"\n",
    "print(\"My Favorite Star is : \"+ x)\n",
    "print(\"My Favorite Star is : \", x)"
   ]
  },
  {
   "cell_type": "code",
   "execution_count": 5,
   "metadata": {},
   "outputs": [
    {
     "name": "stdout",
     "output_type": "stream",
     "text": [
      "10\n"
     ]
    }
   ],
   "source": [
    "a = 5\n",
    "b = 5\n",
    "c = a+b\n",
    "print(c)"
   ]
  },
  {
   "attachments": {},
   "cell_type": "markdown",
   "metadata": {},
   "source": [
    "### การต่อข้อความ (Concatenation of Variables)"
   ]
  },
  {
   "cell_type": "code",
   "execution_count": 24,
   "metadata": {},
   "outputs": [
    {
     "name": "stdout",
     "output_type": "stream",
     "text": [
      "FacultyofEngineering\n",
      "Faculty of Engineering\n"
     ]
    }
   ],
   "source": [
    "# การรวมกันของข้อความ\n",
    "\n",
    "a = 'Faculty'\n",
    "b = 'of'\n",
    "c = 'Engineering'\n",
    "\n",
    "d = a+b+c\n",
    "print(d)\n",
    "e = a+\" \"+b+\" \"+c\n",
    "print(e)"
   ]
  },
  {
   "cell_type": "code",
   "execution_count": 26,
   "metadata": {},
   "outputs": [
    {
     "name": "stdout",
     "output_type": "stream",
     "text": [
      "40.5\n"
     ]
    }
   ],
   "source": [
    "#  การรวมกันระหว่างจำนวนเต็มกับทศนิยม  (Integer + Float)\n",
    "\n",
    "x = 15\n",
    "y = 25.5\n",
    "\n",
    "a = x+y\n",
    "print(a) # สรุปคือ เครื่องหมายบวก '+' เมื่อเป็นตัวเลข จะให้ผลเป็นการคำนวณทางคณิตศาสตร์ "
   ]
  },
  {
   "cell_type": "code",
   "execution_count": 27,
   "metadata": {},
   "outputs": [
    {
     "ename": "TypeError",
     "evalue": "can only concatenate str (not \"float\") to str",
     "output_type": "error",
     "traceback": [
      "\u001b[1;31m---------------------------------------------------------------------------\u001b[0m",
      "\u001b[1;31mTypeError\u001b[0m                                 Traceback (most recent call last)",
      "\u001b[1;32me:\\coworking\\Teaching\\AI\\Python Tutorial\\1.02 Variables.ipynb Cell 20\u001b[0m in \u001b[0;36m<cell line: 5>\u001b[1;34m()\u001b[0m\n\u001b[0;32m      <a href='vscode-notebook-cell:/e%3A/coworking/Teaching/AI/Python%20Tutorial/1.02%20Variables.ipynb#X25sZmlsZQ%3D%3D?line=1'>2</a>\u001b[0m x \u001b[39m=\u001b[39m \u001b[39m'\u001b[39m\u001b[39m15\u001b[39m\u001b[39m'\u001b[39m\n\u001b[0;32m      <a href='vscode-notebook-cell:/e%3A/coworking/Teaching/AI/Python%20Tutorial/1.02%20Variables.ipynb#X25sZmlsZQ%3D%3D?line=2'>3</a>\u001b[0m y \u001b[39m=\u001b[39m \u001b[39m25.5\u001b[39m\n\u001b[1;32m----> <a href='vscode-notebook-cell:/e%3A/coworking/Teaching/AI/Python%20Tutorial/1.02%20Variables.ipynb#X25sZmlsZQ%3D%3D?line=4'>5</a>\u001b[0m z \u001b[39m=\u001b[39m x\u001b[39m+\u001b[39;49my\n\u001b[0;32m      <a href='vscode-notebook-cell:/e%3A/coworking/Teaching/AI/Python%20Tutorial/1.02%20Variables.ipynb#X25sZmlsZQ%3D%3D?line=5'>6</a>\u001b[0m \u001b[39mprint\u001b[39m(z)\n",
      "\u001b[1;31mTypeError\u001b[0m: can only concatenate str (not \"float\") to str"
     ]
    }
   ],
   "source": [
    "# การรวมกันระหว่างตัวเลขและข้อความ\n",
    "x = '15'\n",
    "y = 25.5\n",
    "\n",
    "z = x+y\n",
    "print(z)\n",
    "\n",
    "#Expected : Type Error, Cannot Concatenate String and Integer"
   ]
  },
  {
   "cell_type": "code",
   "execution_count": 28,
   "metadata": {},
   "outputs": [
    {
     "name": "stdout",
     "output_type": "stream",
     "text": [
      "My Age is 8 and cgpa is 6\n"
     ]
    }
   ],
   "source": [
    "# the above programs produces an error because we cannot concatenate a string and an Integer\n",
    "\n",
    "\n",
    "# but using the format function we can concatenate them\n",
    "\n",
    "x = 'My Age is {} and cgpa is {}'\n",
    "print(x.format(8, 6))"
   ]
  },
  {
   "attachments": {},
   "cell_type": "markdown",
   "metadata": {},
   "source": [
    "### ตัวแปรประเภท Global\n",
    "* Global Variables are Variables which are created Outside of the Function. But, They can accessed from anywhere.\n"
   ]
  },
  {
   "cell_type": "code",
   "execution_count": 36,
   "metadata": {},
   "outputs": [
    {
     "name": "stdout",
     "output_type": "stream",
     "text": [
      "89.63\n"
     ]
    }
   ],
   "source": [
    "x = 89.63\n",
    "\n",
    "def function():\n",
    "    print(x)\n",
    "    \n",
    "function()  # here, we are able to access variable from outside of the variable"
   ]
  },
  {
   "cell_type": "code",
   "execution_count": 38,
   "metadata": {},
   "outputs": [
    {
     "name": "stdout",
     "output_type": "stream",
     "text": [
      "78\n"
     ]
    }
   ],
   "source": [
    "x = 8956454.23\n",
    "\n",
    "def function():\n",
    "    x = 78\n",
    "    print(x)\n",
    "\n",
    "function()  # here, we are able to access the local variable"
   ]
  },
  {
   "cell_type": "markdown",
   "metadata": {},
   "source": [
    "### The Global Keyword\n",
    "\n",
    "* Normally, when you create a variable inside a function, that variable is local, and can only be used inside that function.\n",
    "\n",
    "* To create a global variable inside a function, you can use the global keyword."
   ]
  },
  {
   "cell_type": "code",
   "execution_count": 41,
   "metadata": {},
   "outputs": [
    {
     "name": "stdout",
     "output_type": "stream",
     "text": [
      "fantastic\n"
     ]
    }
   ],
   "source": [
    "def function():\n",
    "    global x\n",
    "    x = \"fantastic\"\n",
    "    print(x)\n",
    "\n",
    "function()"
   ]
  }
 ],
 "metadata": {
  "kernelspec": {
   "display_name": "base",
   "language": "python",
   "name": "python3"
  },
  "language_info": {
   "codemirror_mode": {
    "name": "ipython",
    "version": 3
   },
   "file_extension": ".py",
   "mimetype": "text/x-python",
   "name": "python",
   "nbconvert_exporter": "python",
   "pygments_lexer": "ipython3",
   "version": "3.9.12"
  },
  "vscode": {
   "interpreter": {
    "hash": "d4b41ff863b441b81942c2f896a6036e870e8ebd74dc97e92c9a1895e43c1914"
   }
  }
 },
 "nbformat": 4,
 "nbformat_minor": 4
}
