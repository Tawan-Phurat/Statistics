{
 "cells": [
  {
   "attachments": {},
   "cell_type": "markdown",
   "metadata": {},
   "source": [
    "# ตัวดำเนินการทางคณิตศาสตร์ Arithematic Operators\n",
    "ตัวดำเนินการทางคณิตศาสตร์ในภาษา python"
   ]
  },
  {
   "attachments": {},
   "cell_type": "markdown",
   "metadata": {},
   "source": [
    "## 1. การบวก Addition Operator\n",
    "การบวกจำนวนสองจำนวน\n",
    "### x+y"
   ]
  },
  {
   "cell_type": "code",
   "execution_count": 90,
   "metadata": {},
   "outputs": [
    {
     "data": {
      "text/plain": [
       "17"
      ]
     },
     "execution_count": 90,
     "metadata": {},
     "output_type": "execute_result"
    }
   ],
   "source": [
    "# Adding two numbers\n",
    "15+2"
   ]
  },
  {
   "cell_type": "code",
   "execution_count": 91,
   "metadata": {},
   "outputs": [
    {
     "data": {
      "text/plain": [
       "255.5"
      ]
     },
     "execution_count": 91,
     "metadata": {},
     "output_type": "execute_result"
    }
   ],
   "source": [
    "#Adding two numbers\n",
    "10+245.5"
   ]
  },
  {
   "attachments": {},
   "cell_type": "markdown",
   "metadata": {},
   "source": [
    "## 2. การลบ Subtraction Operator\n",
    "การลบ เป็นการหักค่าออกจากตัวตั้ง\n",
    "### x-y"
   ]
  },
  {
   "cell_type": "code",
   "execution_count": 92,
   "metadata": {},
   "outputs": [
    {
     "data": {
      "text/plain": [
       "44"
      ]
     },
     "execution_count": 92,
     "metadata": {},
     "output_type": "execute_result"
    }
   ],
   "source": [
    "# การลบ\n",
    "60-16"
   ]
  },
  {
   "cell_type": "code",
   "execution_count": 93,
   "metadata": {},
   "outputs": [
    {
     "data": {
      "text/plain": [
       "2023"
      ]
     },
     "execution_count": 93,
     "metadata": {},
     "output_type": "execute_result"
    }
   ],
   "source": [
    "# Subtracting\n",
    "2566-543"
   ]
  },
  {
   "attachments": {},
   "cell_type": "markdown",
   "metadata": {},
   "source": [
    "## 3. การคูณ Multiplication Operator\n",
    "การคูณเลขสองจำนวนเข้าด้วยกัน\n",
    "### x*y"
   ]
  },
  {
   "cell_type": "code",
   "execution_count": 94,
   "metadata": {},
   "outputs": [
    {
     "data": {
      "text/plain": [
       "350"
      ]
     },
     "execution_count": 94,
     "metadata": {},
     "output_type": "execute_result"
    }
   ],
   "source": [
    "# การคูญเลขสองจำนวน multiplies two values\n",
    "25*14"
   ]
  },
  {
   "cell_type": "code",
   "execution_count": 95,
   "metadata": {},
   "outputs": [
    {
     "data": {
      "text/plain": [
       "86400"
      ]
     },
     "execution_count": 95,
     "metadata": {},
     "output_type": "execute_result"
    }
   ],
   "source": [
    "24*60*60"
   ]
  },
  {
   "attachments": {},
   "cell_type": "markdown",
   "metadata": {},
   "source": [
    "## 4. การหาร Dividend Operator\n",
    "เป็นการหาผลหารของเลขจำนวนหนึ่งด้วยเลขอีกจำนวนหนึ่ง.  ใช้เครื่องหมาย \"/\" สแลช (slash) แทนการหาร\n",
    "### x/y"
   ]
  },
  {
   "cell_type": "code",
   "execution_count": 96,
   "metadata": {},
   "outputs": [
    {
     "data": {
      "text/plain": [
       "10.0"
      ]
     },
     "execution_count": 96,
     "metadata": {},
     "output_type": "execute_result"
    }
   ],
   "source": [
    "50/5"
   ]
  },
  {
   "cell_type": "code",
   "execution_count": 97,
   "metadata": {},
   "outputs": [
    {
     "data": {
      "text/plain": [
       "0.12312312312312312"
      ]
     },
     "execution_count": 97,
     "metadata": {},
     "output_type": "execute_result"
    }
   ],
   "source": [
    "123/999"
   ]
  },
  {
   "attachments": {},
   "cell_type": "markdown",
   "metadata": {},
   "source": [
    "## 5. การหาเศษของการหาร (Modulus Operator)\n",
    "การหาเศษที่ได้จากการหาร ตัวดำเนินการโมดูลัสนี้สนใจเฉพาะเศษที่เหลือจากการหาร ใช้เครื่องหมาย \"%\" แทนการหาค่าโมดูลัส\n",
    "### x%y"
   ]
  },
  {
   "cell_type": "code",
   "execution_count": 98,
   "metadata": {},
   "outputs": [
    {
     "data": {
      "text/plain": [
       "123"
      ]
     },
     "execution_count": 98,
     "metadata": {},
     "output_type": "execute_result"
    }
   ],
   "source": [
    "123%999"
   ]
  },
  {
   "cell_type": "code",
   "execution_count": 99,
   "metadata": {},
   "outputs": [
    {
     "data": {
      "text/plain": [
       "5"
      ]
     },
     "execution_count": 99,
     "metadata": {},
     "output_type": "execute_result"
    }
   ],
   "source": [
    "75%10"
   ]
  },
  {
   "attachments": {},
   "cell_type": "markdown",
   "metadata": {},
   "source": [
    "## 6. การยกกำลัง  Exponent Operator\n",
    "การหาผลการยกกำลังของเลขตัวหน้าที่ทำหน้าที่เป็นฐานกับเลขตัวหลังทำหน้าที่เป็นเลขชี้กำลัง . ใช้เครื่องหมาย \"**\" แทนการยกกำลัง\n",
    "### x**y"
   ]
  },
  {
   "cell_type": "code",
   "execution_count": 100,
   "metadata": {},
   "outputs": [
    {
     "data": {
      "text/plain": [
       "16"
      ]
     },
     "execution_count": 100,
     "metadata": {},
     "output_type": "execute_result"
    }
   ],
   "source": [
    "2**4"
   ]
  },
  {
   "cell_type": "code",
   "execution_count": 101,
   "metadata": {},
   "outputs": [
    {
     "data": {
      "text/plain": [
       "65536"
      ]
     },
     "execution_count": 101,
     "metadata": {},
     "output_type": "execute_result"
    }
   ],
   "source": [
    "16**4"
   ]
  },
  {
   "attachments": {},
   "cell_type": "markdown",
   "metadata": {},
   "source": [
    "## 7. การหาค่าผลหารปัดเศษ Floor Division Operator\n",
    "เป็นการหาค่าจำนวนเต็มที่เป็นผลของการหารเลขสองจำนวนโดยปัดเศษทศนิยมทิ้งไป  ใช้เครื่องหมาย \"//\" แทนการหารปัดเศษ\n",
    "### x//y"
   ]
  },
  {
   "cell_type": "code",
   "execution_count": 102,
   "metadata": {},
   "outputs": [
    {
     "data": {
      "text/plain": [
       "12"
      ]
     },
     "execution_count": 102,
     "metadata": {},
     "output_type": "execute_result"
    }
   ],
   "source": [
    "123//10"
   ]
  },
  {
   "cell_type": "code",
   "execution_count": 103,
   "metadata": {},
   "outputs": [
    {
     "data": {
      "text/plain": [
       "8"
      ]
     },
     "execution_count": 103,
     "metadata": {},
     "output_type": "execute_result"
    }
   ],
   "source": [
    "80//9"
   ]
  },
  {
   "attachments": {},
   "cell_type": "markdown",
   "metadata": {},
   "source": [
    "# การกำหนดค่า\n",
    "เป็นการกำหนดค่าตัวแปรทางด้านซ้ายมือ ด้วยค่าทางด้านขวามือของเครื่องหมาย \"=\" "
   ]
  },
  {
   "attachments": {},
   "cell_type": "markdown",
   "metadata": {},
   "source": [
    "## 1. กำหนดค่า ด้วยเครื่องหมายเท่ากับ \"=\"  Equal to Operator\n",
    "เป็นการกำหนดค่าตัวแปรด้านซ้ายมือ ด้วยค่าด้านขวามือ อย่างง่ายๆ"
   ]
  },
  {
   "cell_type": "code",
   "execution_count": 104,
   "metadata": {},
   "outputs": [
    {
     "name": "stdout",
     "output_type": "stream",
     "text": [
      "5\n"
     ]
    }
   ],
   "source": [
    "x=5\n",
    "print(x)"
   ]
  },
  {
   "cell_type": "code",
   "execution_count": 129,
   "metadata": {},
   "outputs": [
    {
     "name": "stdout",
     "output_type": "stream",
     "text": [
      "7.5\n"
     ]
    }
   ],
   "source": [
    "x = 7.5\n",
    "print (x)"
   ]
  },
  {
   "attachments": {},
   "cell_type": "markdown",
   "metadata": {},
   "source": [
    "## 2. การกำหนดค่าพร้อมด้วยการเพิ่มค่าขึ้น ใช้เครื่องหมาย \"+=\" \n",
    "เป็นการกำหนดค่าที่มีการเพิ่มค่าทางซ้ายมือด้วยค่าทางขวามือ  กล่าวคือมีการหาผลบวกระหว่างค่าตัวแปรด้านซ้ายมือกับค่าทางขวามือก่อน แล้วจึงนำไปกำหนดค่าให้กับตัวแปรทางซ้ายมือ \n",
    "###  x+=y       x=x+y "
   ]
  },
  {
   "cell_type": "code",
   "execution_count": 130,
   "metadata": {},
   "outputs": [
    {
     "data": {
      "text/plain": [
       "20"
      ]
     },
     "execution_count": 130,
     "metadata": {},
     "output_type": "execute_result"
    }
   ],
   "source": [
    "x = 7\n",
    "y = 13\n",
    "x+=y\n",
    "x"
   ]
  },
  {
   "attachments": {},
   "cell_type": "markdown",
   "metadata": {},
   "source": [
    "## 3. การกำหนดค่าด้วยการลดค่าลง ใช้เครื่องหมาย  '-='\n",
    "เป็นการกำหนดค่าให้กับตัวแปรด้านซ้ายมือ โดยมีการลดค่าตัวแปรทางด้านซ้ายมือด้วยค่าทางขวามือ x-=y จึงมีความหมายเท่ากับ x=x-y นั่นเอง\n",
    "### x-=y  x=x-y"
   ]
  },
  {
   "cell_type": "code",
   "execution_count": 127,
   "metadata": {},
   "outputs": [
    {
     "data": {
      "text/plain": [
       "23"
      ]
     },
     "execution_count": 127,
     "metadata": {},
     "output_type": "execute_result"
    }
   ],
   "source": [
    "x = 44\n",
    "y = 21\n",
    "x-=y\n",
    "x"
   ]
  },
  {
   "attachments": {},
   "cell_type": "markdown",
   "metadata": {},
   "source": [
    "## 4. การกำหนดค่าพร้อมด้วยการคูญ  ใช้เครื่องหมาย '*=' \n",
    "เป็นการกำหนดค่าให้กับตัวแปรด้านซ้ายมือ ด้วยผลคูณของตัวแปรทางซ้ายมือและค่าทางขวามือ\n",
    "### x*=y x=x*y"
   ]
  },
  {
   "cell_type": "code",
   "execution_count": 124,
   "metadata": {},
   "outputs": [
    {
     "data": {
      "text/plain": [
       "64"
      ]
     },
     "execution_count": 124,
     "metadata": {},
     "output_type": "execute_result"
    }
   ],
   "source": [
    "x = 16\n",
    "y = 4\n",
    "x*=y\n",
    "x"
   ]
  },
  {
   "attachments": {},
   "cell_type": "markdown",
   "metadata": {},
   "source": [
    "## 5. การกำหนดค่าพร้อมด้วยการหาร ใช้เครื่องหมาย '/='\n",
    "เป็นการกำหนดค่าให้ตัวแปรทางซ้ายมือ ด้วยค่าของผลหารของตัวแปรทางซ้ายมือกับค่าทางขวามือ ผลลัพธ์ที่ได้จะจัดเก็บไว้ในตัวแปรทางซ้ายมือ\n",
    "### x/=y    x=x/y"
   ]
  },
  {
   "cell_type": "code",
   "execution_count": 122,
   "metadata": {},
   "outputs": [
    {
     "data": {
      "text/plain": [
       "7.0"
      ]
     },
     "execution_count": 122,
     "metadata": {},
     "output_type": "execute_result"
    }
   ],
   "source": [
    "x = 35\n",
    "y = 5\n",
    "x/=y\n",
    "x"
   ]
  },
  {
   "attachments": {},
   "cell_type": "markdown",
   "metadata": {},
   "source": [
    "## 6. การกำหนดค่าพร้อมด้วยการหาเศษของการหาร ใช้เครื่องหมาย '%=' \n",
    "เป้น.\n",
    "### x%=y    x=x%y"
   ]
  },
  {
   "cell_type": "code",
   "execution_count": 121,
   "metadata": {},
   "outputs": [
    {
     "data": {
      "text/plain": [
       "16"
      ]
     },
     "execution_count": 121,
     "metadata": {},
     "output_type": "execute_result"
    }
   ],
   "source": [
    "x = 456\n",
    "y = 20\n",
    "x%=y\n",
    "x"
   ]
  },
  {
   "attachments": {},
   "cell_type": "markdown",
   "metadata": {},
   "source": [
    "## 7. การกำหนดค่าพร้อมด้วยการยกกำลัง ใช้เครื่องหมาย '**=' \n",
    "เป็นการกำหนดค่าให้กับตัวแปรทางด้านซ้ายมือ ด้วยผลของการยกกำลังของตัวแปรทางซ้ายมือด้วยเลขชี้กำลังทางด้านขวามือ ผลลัพธ์จัดเก็บในตัวแปรด้านซ้ายมือ\n",
    "### x**=y   x=x**y\n"
   ]
  },
  {
   "cell_type": "code",
   "execution_count": 120,
   "metadata": {},
   "outputs": [
    {
     "data": {
      "text/plain": [
       "256"
      ]
     },
     "execution_count": 120,
     "metadata": {},
     "output_type": "execute_result"
    }
   ],
   "source": [
    "x = 2\n",
    "y = 8\n",
    "x**=y\n",
    "x"
   ]
  },
  {
   "attachments": {},
   "cell_type": "markdown",
   "metadata": {},
   "source": [
    "## 8. กำหนดค่าพร้อมด้วยการหาค่าผลหาร  ใช้เครื่องหมาย '//=' \n",
    "การกำหนดค่าทางซ้ายมือ ด้วยการหาค่าผลหารของค่าตัวแปรทางด้านซ้ายมือด้วยค่าทางขวามือแล้วเก็บผลลัพธ์ที่ได้ไว้ที่ตัวแปรทางด้านซ้ายมือ \n",
    "### x//=y    x=x//y"
   ]
  },
  {
   "cell_type": "code",
   "execution_count": 117,
   "metadata": {},
   "outputs": [
    {
     "data": {
      "text/plain": [
       "4"
      ]
     },
     "execution_count": 117,
     "metadata": {},
     "output_type": "execute_result"
    }
   ],
   "source": [
    "x = 256\n",
    "y = 64\n",
    "x//=y\n",
    "x"
   ]
  },
  {
   "attachments": {},
   "cell_type": "markdown",
   "metadata": {},
   "source": [
    "# เปรียบเทียบผลลัพธ์ 2 cell ต่อไปนี้\n"
   ]
  },
  {
   "cell_type": "code",
   "execution_count": 112,
   "metadata": {},
   "outputs": [
    {
     "data": {
      "text/plain": [
       "15"
      ]
     },
     "execution_count": 112,
     "metadata": {},
     "output_type": "execute_result"
    }
   ],
   "source": [
    "x = 15\n",
    "x+25\n",
    "x"
   ]
  },
  {
   "cell_type": "code",
   "execution_count": 113,
   "metadata": {},
   "outputs": [
    {
     "data": {
      "text/plain": [
       "40"
      ]
     },
     "execution_count": 113,
     "metadata": {},
     "output_type": "execute_result"
    }
   ],
   "source": [
    "x = 15\n",
    "x+=25\n",
    "x"
   ]
  },
  {
   "attachments": {
    "image.png": {
     "image/png": "[encoded data removed]"
    }
   },
   "cell_type": "markdown",
   "metadata": {},
   "source": [
    "# แบบฝึกหัด ให้เขียนโปรแกรมแสดงสูตรคูณ ให้ได้ผลลัพธ์ดังนี้\n",
    "![image.png](attachment:image.png)"
   ]
  }
 ],
 "metadata": {
  "kernelspec": {
   "display_name": "base",
   "language": "python",
   "name": "python3"
  },
  "language_info": {
   "codemirror_mode": {
    "name": "ipython",
    "version": 3
   },
   "file_extension": ".py",
   "mimetype": "text/x-python",
   "name": "python",
   "nbconvert_exporter": "python",
   "pygments_lexer": "ipython3",
   "version": "3.9.12"
  },
  "vscode": {
   "interpreter": {
    "hash": "d4b41ff863b441b81942c2f896a6036e870e8ebd74dc97e92c9a1895e43c1914"
   }
  }
 },
 "nbformat": 4,
 "nbformat_minor": 4
}
